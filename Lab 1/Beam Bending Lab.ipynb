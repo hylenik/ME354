{
 "cells": [
  {
   "cell_type": "markdown",
   "metadata": {},
   "source": [
    "# Beam Bending Analysis Code :D"
   ]
  },
  {
   "cell_type": "markdown",
   "metadata": {},
   "source": [
    "## Geometry dimensions, Two setups"
   ]
  },
  {
   "cell_type": "markdown",
   "metadata": {},
   "source": [
    "#### 3-point beam bending"
   ]
  },
  {
   "cell_type": "code",
   "execution_count": null,
   "metadata": {},
   "outputs": [],
   "source": [
    "L3 = 0.7 #3-point length\n",
    "b3 = 0.03835 #3-point width\n",
    "h3 = 0.02574 #3-point height"
   ]
  },
  {
   "cell_type": "markdown",
   "metadata": {},
   "source": [
    "#### 4-point beam bending"
   ]
  },
  {
   "cell_type": "code",
   "execution_count": null,
   "metadata": {},
   "outputs": [],
   "source": [
    "L4 = 0.7\n",
    "b4 = 0.03835\n",
    "h4 = 0.02574\n",
    "a = 0.2\n",
    "b = 0.5\n",
    "c = 0.15"
   ]
  },
  {
   "cell_type": "markdown",
   "metadata": {},
   "source": [
    "#### Material Properties"
   ]
  },
  {
   "cell_type": "code",
   "execution_count": null,
   "metadata": {},
   "outputs": [],
   "source": [
    "E = 69000e6  # Elastic Modulus\n",
    "v = 0.33     # Poisson's Ratio\n",
    "Y = 275e6    # Yield Strength"
   ]
  },
  {
   "cell_type": "markdown",
   "metadata": {},
   "source": [
    "## Calculate the second moment of inertia I"
   ]
  },
  {
   "cell_type": "code",
   "execution_count": null,
   "metadata": {},
   "outputs": [],
   "source": [
    "#This is a function\n",
    "def areaMomentOfInertia(b,h):\n",
    "    I = b*h**3/12\n",
    "    return I"
   ]
  },
  {
   "cell_type": "markdown",
   "metadata": {},
   "source": [
    "### Max Deflection "
   ]
  },
  {
   "cell_type": "code",
   "execution_count": null,
   "metadata": {},
   "outputs": [],
   "source": [
    "# 3-point max deflection\n",
    "def threePointDeflection(P,E,I,L):\n",
    "    w = P*L**3 /(48*E*I)\n",
    "    return w\n",
    "\n",
    "# 4-point max deflection\n",
    "def fourPointDeflection(P,E,I,L,a):\n",
    "    w = P*a*(3*L**2-4*a**2)/(48*E*I)\n",
    "    return w\n",
    "\n",
    "#Calculate deflection for 3-point beam\n",
    "load = [400 , 800, 1200, 1600] # input a list of the loads in Newtons i.e. [L0, L1, L2,...],\n",
    "#Notice that the values in excel file is the reaction force, make sure the load is 2 times of the reaction force\n",
    "I3 = areaMomentOfInertia(b3,h3) #calculate the 2nd moment of area for 3-point beam\n",
    "deflection3 = [threePointDeflection(P,E,I3,L3)*1000 for P in load]   \n",
    "print(deflection3)\n",
    "\n",
    "#Calculate deflection for 4-point beam\n",
    "I4 = areaMomentOfInertia(b4,h4)\n",
    "deflection4 = [fourPointDeflection(P,E,I4,L4,a)*1000 for P in load]  \n",
    "print(deflection4)"
   ]
  },
  {
   "cell_type": "code",
   "execution_count": null,
   "metadata": {},
   "outputs": [],
   "source": [
    "import matplotlib.pyplot as plt\n",
    "\n",
    "# Deflection data from measurement\n",
    "D3 = [0.90,1.73,2.63,3.4] #input a list of deflection measurements Data from excel file\n",
    "D4 = [0.69,1.37,2.05,2.73]\n",
    "\n",
    "#Plot all the things\n",
    "fig = plt.figure(1,figsize=(10,6),dpi = 64) #initiate the figure\n",
    "ax = fig.gca() #get the axes\n",
    "ax.plot(load,deflection3,'.-',label = 'Theory') #plot the theoretical deflection\n",
    "ax.plot(load,D3,'*-',label = 'Measurement') #plot the experimental deflection\n",
    "#note: if you want to use error bars then run the following\n",
    "#ax.errorbar(load,deflection3,yerr=[listOfYErrors],label = 'Theory')\n",
    "ax.legend()\n",
    "ax.set_xlabel('Load(N)')\n",
    "ax.set_ylabel('Deflection(mm)')\n",
    "plt.title('3-Point beam bending')\n",
    "\n",
    "fig = plt.figure(2,figsize=(10,6),dpi = 64)\n",
    "ax = fig.gca()\n",
    "ax.plot(load,deflection4,'.-', label = 'Theory')\n",
    "ax.plot(load,D4,'*-', label = 'Measurement')\n",
    "ax.legend()\n",
    "ax.set_xlabel('Load(N)')\n",
    "ax.set_ylabel('Deflection(mm)')\n",
    "plt.title('4-Point beam bending')"
   ]
  },
  {
   "cell_type": "markdown",
   "metadata": {},
   "source": [
    "### Here are the Functions Shear and Moment in Bending"
   ]
  },
  {
   "cell_type": "markdown",
   "metadata": {},
   "source": [
    "#### For each strain gauge rosette, we have two dimension values x and z"
   ]
  },
  {
   "cell_type": "code",
   "execution_count": null,
   "metadata": {},
   "outputs": [],
   "source": [
    "#Shear force for 3-point bending\n",
    "def shearForce3(P,L,x):\n",
    "    if x<= L/2:\n",
    "        Q = P/2\n",
    "    else:\n",
    "        Q = -P/2\n",
    "    return Q\n",
    "\n",
    "# Moment M for 3-points\n",
    "def bendingMoment3(P,L,x):\n",
    "    if x<= L/2:\n",
    "        M = P*x/2\n",
    "    else:\n",
    "        M = P*(L-x)/2\n",
    "    return M\n",
    "\n",
    "##### Write your own function for 4-point bending shear force and moment here #####\n",
    "L4 = 0.7\n",
    "b4 = 0.03835\n",
    "h4 = 0.02574\n",
    "a = 0.2\n",
    "b = 0.5\n",
    "c = 0.15\n",
    "\n",
    "def shearForce4(P,L,x):\n",
    "    if x<= a:\n",
    "        Q = P/2\n",
    "    elif x<= L-a and x>a:\n",
    "        Q = 0\n",
    "    elif x<=L and x>L-a:\n",
    "        Q = -P/2\n",
    "    return Q\n",
    "\n",
    "def bendingMoment4(P,L,x):\n",
    "    if x<=a:\n",
    "        M = (P*x)/2\n",
    "    elif x>a and x<=L-a:\n",
    "        M = (P*a)/2\n",
    "    elif x>L-a and x<=L:\n",
    "        M = (P*(x-L)*0.5)\n",
    "    return M \n",
    "\n",
    "# Axial stress by moment\n",
    "def axialStress(M,I,z):\n",
    "    sigma = M*z/I\n",
    "    return sigma\n",
    "# Shear stress by Shear force, since we only care about the top and bottom surface and neutral axix of the beam\n",
    "def shearStress(Q,b,h,z):\n",
    "    if z == 0:\n",
    "        tau = 3*Q/(2*b*h)\n",
    "    else:\n",
    "        tau = 0\n",
    "    return tau"
   ]
  },
  {
   "cell_type": "markdown",
   "metadata": {},
   "source": [
    "### Rotation Function for Strain"
   ]
  },
  {
   "cell_type": "code",
   "execution_count": null,
   "metadata": {},
   "outputs": [],
   "source": [
    "import numpy as np\n",
    "def strain1Rotate(epsilon,th):\n",
    "    '''Rotate a strain epsilon =[e_x,e_y,gamma_xy] by an angle th given in radians.'''\n",
    "    T = [cos(th)**2, sin(th)**2, sin(th)*cos(th)]\n",
    "    return np.dot(T,epsilon)"
   ]
  },
  {
   "cell_type": "markdown",
   "metadata": {},
   "source": [
    "## 3 - Point Bending Strain Calculations"
   ]
  },
  {
   "cell_type": "markdown",
   "metadata": {},
   "source": [
    "### Rosette 1"
   ]
  },
  {
   "cell_type": "code",
   "execution_count": null,
   "metadata": {},
   "outputs": [],
   "source": [
    "rosettePosition = [0.35,-h3/2] #[x_coordinate, z_coordinate] this is rosette 1, note that z value equals to zero at neutral axis\n",
    "Loads =[400,800,1200,1600]\n",
    "for P in Loads:\n",
    "    Q = shearForce3(P,L3,rosettePosition[0])\n",
    "    M = bendingMoment3(P,L3,rosettePosition[0])\n",
    "    sig = axialStress(M,I3,rosettePosition[1])\n",
    "    tau = shearStress(Q,b3,h3,rosettePosition[1])\n",
    "\n",
    "    from numpy import sin,cos,pi\n",
    "\n",
    "    # Already have stresses values at each strain rosette, now we can compute the strains using Hooke's law\n",
    "    C = np.array([[1/E, -v/E,0],[-v/E,1/E,0],[0,0,2*(1+v)/E]]) #stiffness tensor\n",
    "\n",
    "    # Let's take strain rosette 1 as example. We need both axial strains and the shear strain\n",
    "    epsilon = np.dot(C,np.array([sig,0,tau])) # No stress on y direction\n",
    "\n",
    "    # Now transform from coordinate strains to the direction of strain gauge\n",
    "    ros1 = [0,45,90] #all three gauge directions\n",
    "    e1a = strain1Rotate(epsilon,ros1[0]*pi/180)\n",
    "    e1b = strain1Rotate(epsilon,ros1[1]*pi/180)\n",
    "    e1c = strain1Rotate(epsilon,ros1[2]*pi/180)\n",
    "    epsilon_rosette1 = np.array([e1a,e1b,e1c])\n",
    "\n",
    "    #This can also be done using list comprehensions as\n",
    "    epsilon_rosette1Alt = np.array([strain1Rotate(epsilon,th*pi/180) for th in ros1])\n",
    "\n",
    "    # Since the unit of measurement is micron strain, the results here need to be multiplied by 1e6\n",
    "    epsilon_rosette1 *= 1e6 #this multiplies the original value by 1e6\n",
    "    epsilon_rosette1Alt *= 1e6\n",
    "    print(epsilon_rosette1)\n",
    "   "
   ]
  },
  {
   "cell_type": "markdown",
   "metadata": {},
   "source": [
    "### Rosette 2"
   ]
  },
  {
   "cell_type": "code",
   "execution_count": null,
   "metadata": {},
   "outputs": [],
   "source": [
    " \n",
    "rosettePosition = [0.375,0] #[x_coordinate, z_coordinate] this is rosette 1, note that z value equals to zero at neutral axis\n",
    "Loads =[400,800,1200,1600]\n",
    "for P in Loads:\n",
    "    Q = shearForce3(P,L3,rosettePosition[0])\n",
    "    M = bendingMoment3(P,L3,rosettePosition[0])\n",
    "    sig = axialStress(M,I3,rosettePosition[1])\n",
    "    tau = shearStress(Q,b3,h3,rosettePosition[1])\n",
    "\n",
    "    from numpy import sin,cos,pi\n",
    "\n",
    "    # Already have stresses values at each strain rosette, now we can compute the strains using Hooke's law\n",
    "    C = np.array([[1/E, -v/E,0],[-v/E,1/E,0],[0,0,2*(1+v)/E]]) #stiffness tensor\n",
    "\n",
    "    # Let's take strain rosette 1 as example. We need both axial strains and the shear strain\n",
    "    epsilon = np.dot(C,np.array([sig,0,tau])) # No stress on y direction\n",
    "\n",
    "    # Now transform from coordinate strains to the direction of strain gauge\n",
    "    ros1 = [0,45,90] #all three gauge directions\n",
    "    e1a = strain1Rotate(epsilon,ros1[0]*pi/180)\n",
    "    e1b = strain1Rotate(epsilon,ros1[1]*pi/180)\n",
    "    e1c = strain1Rotate(epsilon,ros1[2]*pi/180)\n",
    "    epsilon_rosette1 = np.array([e1a,e1b,e1c])\n",
    "\n",
    "    #This can also be done using list comprehensions as\n",
    "    epsilon_rosette1Alt = np.array([strain1Rotate(epsilon,th*pi/180) for th in ros1])\n",
    "\n",
    "    # Since the unit of measurement is micron strain, the results here need to be multiplied by 1e6\n",
    "    epsilon_rosette1 *= 1e6 #this multiplies the original value by 1e6\n",
    "    epsilon_rosette1Alt *= 1e6\n",
    "    print(epsilon_rosette1)\n",
    "    "
   ]
  },
  {
   "cell_type": "markdown",
   "metadata": {},
   "source": [
    "### Rosette 3"
   ]
  },
  {
   "cell_type": "code",
   "execution_count": null,
   "metadata": {},
   "outputs": [],
   "source": [
    "rosettePosition = [0.35,h3/2] #[x_coordinate, z_coordinate] this is rosette 1, note that z value equals to zero at neutral axis\n",
    "Loads =[400,800,1200,1600]\n",
    "for P in Loads:\n",
    "    Q = shearForce3(P,L3,rosettePosition[0])\n",
    "    M = bendingMoment3(P,L3,rosettePosition[0])\n",
    "    sig = axialStress(M,I3,rosettePosition[1])\n",
    "    tau = shearStress(Q,b3,h3,rosettePosition[1])\n",
    "\n",
    "    from numpy import sin,cos,pi\n",
    "\n",
    "    # Already have stresses values at each strain rosette, now we can compute the strains using Hooke's law\n",
    "    C = np.array([[1/E, -v/E,0],[-v/E,1/E,0],[0,0,2*(1+v)/E]]) #stiffness tensor\n",
    "\n",
    "    # Let's take strain rosette 1 as example. We need both axial strains and the shear strain\n",
    "    epsilon = np.dot(C,np.array([sig,0,tau])) # No stress on y direction\n",
    "\n",
    "    # Now transform from coordinate strains to the direction of strain gauge\n",
    "    ros1 = [0,45,90] #all three gauge directions\n",
    "    e1a = strain1Rotate(epsilon,ros1[0]*pi/180)\n",
    "    e1b = strain1Rotate(epsilon,ros1[1]*pi/180)\n",
    "    e1c = strain1Rotate(epsilon,ros1[2]*pi/180)\n",
    "    epsilon_rosette1 = np.array([e1a,e1b,e1c])\n",
    "\n",
    "    #This can also be done using list comprehensions as\n",
    "    epsilon_rosette1Alt = np.array([strain1Rotate(epsilon,th*pi/180) for th in ros1])\n",
    "\n",
    "    # Since the unit of measurement is micron strain, the results here need to be multiplied by 1e6\n",
    "    epsilon_rosette1 *= 1e6 #this multiplies the original value by 1e6\n",
    "    epsilon_rosette1Alt *= 1e6\n",
    "    print(epsilon_rosette1)\n"
   ]
  },
  {
   "cell_type": "markdown",
   "metadata": {},
   "source": [
    "### Rosette 4"
   ]
  },
  {
   "cell_type": "code",
   "execution_count": null,
   "metadata": {},
   "outputs": [],
   "source": [
    "rosettePosition = [0.45,-h3/2] #[x_coordinate, z_coordinate] this is rosette 1, note that z value equals to zero at neutral axis\n",
    "Loads =[400,800,1200,1600]\n",
    "for P in Loads:\n",
    "    Q = shearForce3(P,L3,rosettePosition[0])\n",
    "    M = bendingMoment3(P,L3,rosettePosition[0])\n",
    "    sig = axialStress(M,I3,rosettePosition[1])\n",
    "    tau = shearStress(Q,b3,h3,rosettePosition[1])\n",
    "\n",
    "    from numpy import sin,cos,pi\n",
    "\n",
    "    # Already have stresses values at each strain rosette, now we can compute the strains using Hooke's law\n",
    "    C = np.array([[1/E, -v/E,0],[-v/E,1/E,0],[0,0,2*(1+v)/E]]) #stiffness tensor\n",
    "\n",
    "    # Let's take strain rosette 1 as example. We need both axial strains and the shear strain\n",
    "    epsilon = np.dot(C,np.array([sig,0,tau])) # No stress on y direction\n",
    "\n",
    "    # Now transform from coordinate strains to the direction of strain gauge\n",
    "    ros1 = [-45,0,45] #all three gauge directions\n",
    "    e1a = strain1Rotate(epsilon,ros1[0]*pi/180)\n",
    "    e1b = strain1Rotate(epsilon,ros1[1]*pi/180)\n",
    "    e1c = strain1Rotate(epsilon,ros1[2]*pi/180)\n",
    "    epsilon_rosette1 = np.array([e1a,e1b,e1c])\n",
    "\n",
    "    #This can also be done using list comprehensions as\n",
    "    epsilon_rosette1Alt = np.array([strain1Rotate(epsilon,th*pi/180) for th in ros1])\n",
    "\n",
    "    # Since the unit of measurement is micron strain, the results here need to be multiplied by 1e6\n",
    "    epsilon_rosette1 *= 1e6 #this multiplies the original value by 1e6\n",
    "    epsilon_rosette1Alt *= 1e6\n",
    "    print(epsilon_rosette1)\n",
    "    "
   ]
  },
  {
   "cell_type": "markdown",
   "metadata": {},
   "source": [
    "## 4 - Point Bending Strain Calculations"
   ]
  },
  {
   "cell_type": "markdown",
   "metadata": {},
   "source": [
    "### Rosette 1"
   ]
  },
  {
   "cell_type": "code",
   "execution_count": null,
   "metadata": {},
   "outputs": [],
   "source": [
    "rosettePosition = [0.35,-h3/2] #[x_coordinate, z_coordinate] this is rosette 1, note that z value equals to zero at neutral axis\n",
    "Loads =[400,800,1200,1600]\n",
    "for P in Loads:\n",
    "    Q = shearForce4(P,L4,rosettePosition[0])\n",
    "    M = bendingMoment4(P,L4,rosettePosition[0])\n",
    "    sig = axialStress(M,I3,rosettePosition[1])\n",
    "    tau = shearStress(Q,b3,h3,rosettePosition[1])\n",
    "\n",
    "    from numpy import sin,cos,pi\n",
    "\n",
    "    # Already have stresses values at each strain rosette, now we can compute the strains using Hooke's law\n",
    "    C = np.array([[1/E, -v/E,0],[-v/E,1/E,0],[0,0,2*(1+v)/E]]) #stiffness tensor\n",
    "\n",
    "    # Let's take strain rosette 1 as example. We need both axial strains and the shear strain\n",
    "    epsilon = np.dot(C,np.array([sig,0,tau])) # No stress on y direction\n",
    "\n",
    "    # Now transform from coordinate strains to the direction of strain gauge\n",
    "    ros1 = [0,45,90] #all three gauge directions\n",
    "    e1a = strain1Rotate(epsilon,ros1[0]*pi/180)\n",
    "    e1b = strain1Rotate(epsilon,ros1[1]*pi/180)\n",
    "    e1c = strain1Rotate(epsilon,ros1[2]*pi/180)\n",
    "    epsilon_rosette1 = np.array([e1a,e1b,e1c])\n",
    "\n",
    "    #This can also be done using list comprehensions as\n",
    "    epsilon_rosette1Alt = np.array([strain1Rotate(epsilon,th*pi/180) for th in ros1])\n",
    "\n",
    "    # Since the unit of measurement is micron strain, the results here need to be multiplied by 1e6\n",
    "    epsilon_rosette1 *= 1e6 #this multiplies the original value by 1e6\n",
    "    epsilon_rosette1Alt *= 1e6\n",
    "    print(epsilon_rosette1)"
   ]
  },
  {
   "cell_type": "markdown",
   "metadata": {},
   "source": [
    "### Rosette 2 "
   ]
  },
  {
   "cell_type": "code",
   "execution_count": null,
   "metadata": {},
   "outputs": [],
   "source": [
    "rosettePosition = [0.375,0] #[x_coordinate, z_coordinate] this is rosette 1, note that z value equals to zero at neutral axis\n",
    "Loads =[400,800,1200,1600]\n",
    "for P in Loads:\n",
    "    Q = shearForce4(P,L4,rosettePosition[0])\n",
    "    M = bendingMoment4(P,L4,rosettePosition[0])\n",
    "    sig = axialStress(M,I3,rosettePosition[1])\n",
    "    tau = shearStress(Q,b3,h3,rosettePosition[1])\n",
    "\n",
    "    from numpy import sin,cos,pi\n",
    "\n",
    "    # Already have stresses values at each strain rosette, now we can compute the strains using Hooke's law\n",
    "    C = np.array([[1/E, -v/E,0],[-v/E,1/E,0],[0,0,2*(1+v)/E]]) #stiffness tensor\n",
    "\n",
    "    # Let's take strain rosette 1 as example. We need both axial strains and the shear strain\n",
    "    epsilon = np.dot(C,np.array([sig,0,tau])) # No stress on y direction\n",
    "\n",
    "    # Now transform from coordinate strains to the direction of strain gauge\n",
    "    ros1 = [0,45,90] #all three gauge directions\n",
    "    e1a = strain1Rotate(epsilon,ros1[0]*pi/180)\n",
    "    e1b = strain1Rotate(epsilon,ros1[1]*pi/180)\n",
    "    e1c = strain1Rotate(epsilon,ros1[2]*pi/180)\n",
    "    epsilon_rosette1 = np.array([e1a,e1b,e1c])\n",
    "\n",
    "    #This can also be done using list comprehensions as\n",
    "    epsilon_rosette1Alt = np.array([strain1Rotate(epsilon,th*pi/180) for th in ros1])\n",
    "\n",
    "    # Since the unit of measurement is micron strain, the results here need to be multiplied by 1e6\n",
    "    epsilon_rosette1 *= 1e6 #this multiplies the original value by 1e6\n",
    "    epsilon_rosette1Alt *= 1e6\n",
    "    print(epsilon_rosette1)"
   ]
  },
  {
   "cell_type": "markdown",
   "metadata": {},
   "source": [
    "### Rosette 3"
   ]
  },
  {
   "cell_type": "code",
   "execution_count": null,
   "metadata": {},
   "outputs": [],
   "source": [
    "rosettePosition = [0.35,h3/2] #[x_coordinate, z_coordinate] this is rosette 1, note that z value equals to zero at neutral axis\n",
    "Loads =[400,800,1200,1600]\n",
    "for P in Loads:\n",
    "    Q = shearForce4(P,L4,rosettePosition[0])\n",
    "    M = bendingMoment4(P,L4,rosettePosition[0])\n",
    "    sig = axialStress(M,I3,rosettePosition[1])\n",
    "    tau = shearStress(Q,b3,h3,rosettePosition[1])\n",
    "\n",
    "    from numpy import sin,cos,pi\n",
    "\n",
    "    # Already have stresses values at each strain rosette, now we can compute the strains using Hooke's law\n",
    "    C = np.array([[1/E, -v/E,0],[-v/E,1/E,0],[0,0,2*(1+v)/E]]) #stiffness tensor\n",
    "\n",
    "    # Let's take strain rosette 1 as example. We need both axial strains and the shear strain\n",
    "    epsilon = np.dot(C,np.array([sig,0,tau])) # No stress on y direction\n",
    "\n",
    "    # Now transform from coordinate strains to the direction of strain gauge\n",
    "    ros1 = [0,45,90] #all three gauge directions\n",
    "    e1a = strain1Rotate(epsilon,ros1[0]*pi/180)\n",
    "    e1b = strain1Rotate(epsilon,ros1[1]*pi/180)\n",
    "    e1c = strain1Rotate(epsilon,ros1[2]*pi/180)\n",
    "    epsilon_rosette1 = np.array([e1a,e1b,e1c])\n",
    "\n",
    "    #This can also be done using list comprehensions as\n",
    "    epsilon_rosette1Alt = np.array([strain1Rotate(epsilon,th*pi/180) for th in ros1])\n",
    "\n",
    "    # Since the unit of measurement is micron strain, the results here need to be multiplied by 1e6\n",
    "    epsilon_rosette1 *= 1e6 #this multiplies the original value by 1e6\n",
    "    epsilon_rosette1Alt *= 1e6\n",
    "    print(epsilon_rosette1)"
   ]
  },
  {
   "cell_type": "markdown",
   "metadata": {},
   "source": [
    "### Rosette 4"
   ]
  },
  {
   "cell_type": "code",
   "execution_count": null,
   "metadata": {},
   "outputs": [],
   "source": [
    "rosettePosition = [0.45,-h3/2] #[x_coordinate, z_coordinate] this is rosette 1, note that z value equals to zero at neutral axis\n",
    "Loads =[400,800,1200,1600]\n",
    "for P in Loads:\n",
    "    Q = shearForce4(P,L4,rosettePosition[0])\n",
    "    M = bendingMoment4(P,L4,rosettePosition[0])\n",
    "    sig = axialStress(M,I3,rosettePosition[1])\n",
    "    tau = shearStress(Q,b3,h3,rosettePosition[1])\n",
    "\n",
    "    from numpy import sin,cos,pi\n",
    "\n",
    "    # Already have stresses values at each strain rosette, now we can compute the strains using Hooke's law\n",
    "    C = np.array([[1/E, -v/E,0],[-v/E,1/E,0],[0,0,2*(1+v)/E]]) #stiffness tensor\n",
    "\n",
    "    # Let's take strain rosette 1 as example. We need both axial strains and the shear strain\n",
    "    epsilon = np.dot(C,np.array([sig,0,tau])) # No stress on y direction\n",
    "\n",
    "    # Now transform from coordinate strains to the direction of strain gauge\n",
    "    ros1 = [-45,0,45] #all three gauge directions\n",
    "    e1a = strain1Rotate(epsilon,ros1[0]*pi/180)\n",
    "    e1b = strain1Rotate(epsilon,ros1[1]*pi/180)\n",
    "    e1c = strain1Rotate(epsilon,ros1[2]*pi/180)\n",
    "    epsilon_rosette1 = np.array([e1a,e1b,e1c])\n",
    "\n",
    "    #This can also be done using list comprehensions as\n",
    "    epsilon_rosette1Alt = np.array([strain1Rotate(epsilon,th*pi/180) for th in ros1])\n",
    "\n",
    "    # Since the unit of measurement is micron strain, the results here need to be multiplied by 1e6\n",
    "    epsilon_rosette1 *= 1e6 #this multiplies the original value by 1e6\n",
    "    epsilon_rosette1Alt *= 1e6\n",
    "    print(epsilon_rosette1)"
   ]
  },
  {
   "cell_type": "code",
   "execution_count": null,
   "metadata": {},
   "outputs": [],
   "source": []
  }
 ],
 "metadata": {
  "kernelspec": {
   "display_name": "Python 3",
   "language": "python",
   "name": "python3"
  },
  "language_info": {
   "codemirror_mode": {
    "name": "ipython",
    "version": 3
   },
   "file_extension": ".py",
   "mimetype": "text/x-python",
   "name": "python",
   "nbconvert_exporter": "python",
   "pygments_lexer": "ipython3",
   "version": "3.8.3"
  }
 },
 "nbformat": 4,
 "nbformat_minor": 4
}
